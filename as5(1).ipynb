{
  "cells": [
    {
      "cell_type": "code",
      "execution_count": 1,
      "metadata": {
        "id": "8hZC2em8q4Sn"
      },
      "outputs": [],
      "source": [
        "import pandas as pd\n",
        "import numpy as np"
      ]
    },
    {
      "cell_type": "code",
      "execution_count": 2,
      "metadata": {
        "id": "bBgD-n0srnER"
      },
      "outputs": [],
      "source": [
        "import matplotlib.pyplot as plt\n",
        "%matplotlib inline\n",
        "import seaborn as sns"
      ]
    },
    {
      "cell_type": "code",
      "execution_count": 1,
      "metadata": {
        "id": "I88rgcwWrydI"
      },
      "outputs": [
        {
          "ename": "NameError",
          "evalue": "name 'pd' is not defined",
          "output_type": "error",
          "traceback": [
            "\u001b[1;31m---------------------------------------------------------------------------\u001b[0m",
            "\u001b[1;31mNameError\u001b[0m                                 Traceback (most recent call last)",
            "Cell \u001b[1;32mIn[1], line 1\u001b[0m\n\u001b[1;32m----> 1\u001b[0m df \u001b[39m=\u001b[39m pd\u001b[39m.\u001b[39mread_csv(\u001b[39m\"\u001b[39m\u001b[39mSocial_Network_Ads.xls\u001b[39m\u001b[39m\"\u001b[39m)\n",
            "\u001b[1;31mNameError\u001b[0m: name 'pd' is not defined"
          ]
        }
      ],
      "source": [
        "df = pd.read_csv(\"Social_Network_Ads.xls\")"
      ]
    },
    {
      "cell_type": "code",
      "execution_count": 4,
      "metadata": {
        "colab": {
          "base_uri": "https://localhost:8080/",
          "height": 424
        },
        "id": "PFKDDZu8sAfv",
        "outputId": "86fa0c26-3491-48ce-fe1e-3f763a91d0a6"
      },
      "outputs": [
        {
          "data": {
            "text/html": [
              "\n",
              "  <div id=\"df-bba5cdac-c5f1-44e9-93bb-c65b2c93c987\">\n",
              "    <div class=\"colab-df-container\">\n",
              "      <div>\n",
              "<style scoped>\n",
              "    .dataframe tbody tr th:only-of-type {\n",
              "        vertical-align: middle;\n",
              "    }\n",
              "\n",
              "    .dataframe tbody tr th {\n",
              "        vertical-align: top;\n",
              "    }\n",
              "\n",
              "    .dataframe thead th {\n",
              "        text-align: right;\n",
              "    }\n",
              "</style>\n",
              "<table border=\"1\" class=\"dataframe\">\n",
              "  <thead>\n",
              "    <tr style=\"text-align: right;\">\n",
              "      <th></th>\n",
              "      <th>User ID</th>\n",
              "      <th>Gender</th>\n",
              "      <th>Age</th>\n",
              "      <th>EstimatedSalary</th>\n",
              "      <th>Purchased</th>\n",
              "    </tr>\n",
              "  </thead>\n",
              "  <tbody>\n",
              "    <tr>\n",
              "      <th>0</th>\n",
              "      <td>15624510</td>\n",
              "      <td>Male</td>\n",
              "      <td>19</td>\n",
              "      <td>19000</td>\n",
              "      <td>0</td>\n",
              "    </tr>\n",
              "    <tr>\n",
              "      <th>1</th>\n",
              "      <td>15810944</td>\n",
              "      <td>Male</td>\n",
              "      <td>35</td>\n",
              "      <td>20000</td>\n",
              "      <td>0</td>\n",
              "    </tr>\n",
              "    <tr>\n",
              "      <th>2</th>\n",
              "      <td>15668575</td>\n",
              "      <td>Female</td>\n",
              "      <td>26</td>\n",
              "      <td>43000</td>\n",
              "      <td>0</td>\n",
              "    </tr>\n",
              "    <tr>\n",
              "      <th>3</th>\n",
              "      <td>15603246</td>\n",
              "      <td>Female</td>\n",
              "      <td>27</td>\n",
              "      <td>57000</td>\n",
              "      <td>0</td>\n",
              "    </tr>\n",
              "    <tr>\n",
              "      <th>4</th>\n",
              "      <td>15804002</td>\n",
              "      <td>Male</td>\n",
              "      <td>19</td>\n",
              "      <td>76000</td>\n",
              "      <td>0</td>\n",
              "    </tr>\n",
              "    <tr>\n",
              "      <th>...</th>\n",
              "      <td>...</td>\n",
              "      <td>...</td>\n",
              "      <td>...</td>\n",
              "      <td>...</td>\n",
              "      <td>...</td>\n",
              "    </tr>\n",
              "    <tr>\n",
              "      <th>395</th>\n",
              "      <td>15691863</td>\n",
              "      <td>Female</td>\n",
              "      <td>46</td>\n",
              "      <td>41000</td>\n",
              "      <td>1</td>\n",
              "    </tr>\n",
              "    <tr>\n",
              "      <th>396</th>\n",
              "      <td>15706071</td>\n",
              "      <td>Male</td>\n",
              "      <td>51</td>\n",
              "      <td>23000</td>\n",
              "      <td>1</td>\n",
              "    </tr>\n",
              "    <tr>\n",
              "      <th>397</th>\n",
              "      <td>15654296</td>\n",
              "      <td>Female</td>\n",
              "      <td>50</td>\n",
              "      <td>20000</td>\n",
              "      <td>1</td>\n",
              "    </tr>\n",
              "    <tr>\n",
              "      <th>398</th>\n",
              "      <td>15755018</td>\n",
              "      <td>Male</td>\n",
              "      <td>36</td>\n",
              "      <td>33000</td>\n",
              "      <td>0</td>\n",
              "    </tr>\n",
              "    <tr>\n",
              "      <th>399</th>\n",
              "      <td>15594041</td>\n",
              "      <td>Female</td>\n",
              "      <td>49</td>\n",
              "      <td>36000</td>\n",
              "      <td>1</td>\n",
              "    </tr>\n",
              "  </tbody>\n",
              "</table>\n",
              "<p>400 rows × 5 columns</p>\n",
              "</div>\n",
              "      <button class=\"colab-df-convert\" onclick=\"convertToInteractive('df-bba5cdac-c5f1-44e9-93bb-c65b2c93c987')\"\n",
              "              title=\"Convert this dataframe to an interactive table.\"\n",
              "              style=\"display:none;\">\n",
              "        \n",
              "  <svg xmlns=\"http://www.w3.org/2000/svg\" height=\"24px\"viewBox=\"0 0 24 24\"\n",
              "       width=\"24px\">\n",
              "    <path d=\"M0 0h24v24H0V0z\" fill=\"none\"/>\n",
              "    <path d=\"M18.56 5.44l.94 2.06.94-2.06 2.06-.94-2.06-.94-.94-2.06-.94 2.06-2.06.94zm-11 1L8.5 8.5l.94-2.06 2.06-.94-2.06-.94L8.5 2.5l-.94 2.06-2.06.94zm10 10l.94 2.06.94-2.06 2.06-.94-2.06-.94-.94-2.06-.94 2.06-2.06.94z\"/><path d=\"M17.41 7.96l-1.37-1.37c-.4-.4-.92-.59-1.43-.59-.52 0-1.04.2-1.43.59L10.3 9.45l-7.72 7.72c-.78.78-.78 2.05 0 2.83L4 21.41c.39.39.9.59 1.41.59.51 0 1.02-.2 1.41-.59l7.78-7.78 2.81-2.81c.8-.78.8-2.07 0-2.86zM5.41 20L4 18.59l7.72-7.72 1.47 1.35L5.41 20z\"/>\n",
              "  </svg>\n",
              "      </button>\n",
              "      \n",
              "  <style>\n",
              "    .colab-df-container {\n",
              "      display:flex;\n",
              "      flex-wrap:wrap;\n",
              "      gap: 12px;\n",
              "    }\n",
              "\n",
              "    .colab-df-convert {\n",
              "      background-color: #E8F0FE;\n",
              "      border: none;\n",
              "      border-radius: 50%;\n",
              "      cursor: pointer;\n",
              "      display: none;\n",
              "      fill: #1967D2;\n",
              "      height: 32px;\n",
              "      padding: 0 0 0 0;\n",
              "      width: 32px;\n",
              "    }\n",
              "\n",
              "    .colab-df-convert:hover {\n",
              "      background-color: #E2EBFA;\n",
              "      box-shadow: 0px 1px 2px rgba(60, 64, 67, 0.3), 0px 1px 3px 1px rgba(60, 64, 67, 0.15);\n",
              "      fill: #174EA6;\n",
              "    }\n",
              "\n",
              "    [theme=dark] .colab-df-convert {\n",
              "      background-color: #3B4455;\n",
              "      fill: #D2E3FC;\n",
              "    }\n",
              "\n",
              "    [theme=dark] .colab-df-convert:hover {\n",
              "      background-color: #434B5C;\n",
              "      box-shadow: 0px 1px 3px 1px rgba(0, 0, 0, 0.15);\n",
              "      filter: drop-shadow(0px 1px 2px rgba(0, 0, 0, 0.3));\n",
              "      fill: #FFFFFF;\n",
              "    }\n",
              "  </style>\n",
              "\n",
              "      <script>\n",
              "        const buttonEl =\n",
              "          document.querySelector('#df-bba5cdac-c5f1-44e9-93bb-c65b2c93c987 button.colab-df-convert');\n",
              "        buttonEl.style.display =\n",
              "          google.colab.kernel.accessAllowed ? 'block' : 'none';\n",
              "\n",
              "        async function convertToInteractive(key) {\n",
              "          const element = document.querySelector('#df-bba5cdac-c5f1-44e9-93bb-c65b2c93c987');\n",
              "          const dataTable =\n",
              "            await google.colab.kernel.invokeFunction('convertToInteractive',\n",
              "                                                     [key], {});\n",
              "          if (!dataTable) return;\n",
              "\n",
              "          const docLinkHtml = 'Like what you see? Visit the ' +\n",
              "            '<a target=\"_blank\" href=https://colab.research.google.com/notebooks/data_table.ipynb>data table notebook</a>'\n",
              "            + ' to learn more about interactive tables.';\n",
              "          element.innerHTML = '';\n",
              "          dataTable['output_type'] = 'display_data';\n",
              "          await google.colab.output.renderOutput(dataTable, element);\n",
              "          const docLink = document.createElement('div');\n",
              "          docLink.innerHTML = docLinkHtml;\n",
              "          element.appendChild(docLink);\n",
              "        }\n",
              "      </script>\n",
              "    </div>\n",
              "  </div>\n",
              "  "
            ],
            "text/plain": [
              "      User ID  Gender  Age  EstimatedSalary  Purchased\n",
              "0    15624510    Male   19            19000          0\n",
              "1    15810944    Male   35            20000          0\n",
              "2    15668575  Female   26            43000          0\n",
              "3    15603246  Female   27            57000          0\n",
              "4    15804002    Male   19            76000          0\n",
              "..        ...     ...  ...              ...        ...\n",
              "395  15691863  Female   46            41000          1\n",
              "396  15706071    Male   51            23000          1\n",
              "397  15654296  Female   50            20000          1\n",
              "398  15755018    Male   36            33000          0\n",
              "399  15594041  Female   49            36000          1\n",
              "\n",
              "[400 rows x 5 columns]"
            ]
          },
          "execution_count": 4,
          "metadata": {},
          "output_type": "execute_result"
        }
      ],
      "source": [
        "df\n"
      ]
    },
    {
      "cell_type": "code",
      "execution_count": 5,
      "metadata": {
        "colab": {
          "base_uri": "https://localhost:8080/"
        },
        "id": "VjpmCECrsTUn",
        "outputId": "0f56b29b-23e2-4426-cb55-95401cfa557e"
      },
      "outputs": [
        {
          "data": {
            "text/plain": [
              "(400, 5)"
            ]
          },
          "execution_count": 5,
          "metadata": {},
          "output_type": "execute_result"
        }
      ],
      "source": [
        "df.shape"
      ]
    },
    {
      "cell_type": "code",
      "execution_count": 6,
      "metadata": {
        "colab": {
          "base_uri": "https://localhost:8080/"
        },
        "id": "Ie8U_vxksWPm",
        "outputId": "4c2a18e0-9498-42f2-f9f2-1a75d001323e"
      },
      "outputs": [
        {
          "data": {
            "text/plain": [
              "<bound method DataFrame.info of       User ID  Gender  Age  EstimatedSalary  Purchased\n",
              "0    15624510    Male   19            19000          0\n",
              "1    15810944    Male   35            20000          0\n",
              "2    15668575  Female   26            43000          0\n",
              "3    15603246  Female   27            57000          0\n",
              "4    15804002    Male   19            76000          0\n",
              "..        ...     ...  ...              ...        ...\n",
              "395  15691863  Female   46            41000          1\n",
              "396  15706071    Male   51            23000          1\n",
              "397  15654296  Female   50            20000          1\n",
              "398  15755018    Male   36            33000          0\n",
              "399  15594041  Female   49            36000          1\n",
              "\n",
              "[400 rows x 5 columns]>"
            ]
          },
          "execution_count": 6,
          "metadata": {},
          "output_type": "execute_result"
        }
      ],
      "source": [
        "df.info"
      ]
    },
    {
      "cell_type": "code",
      "execution_count": 7,
      "metadata": {
        "colab": {
          "base_uri": "https://localhost:8080/",
          "height": 300
        },
        "id": "k7mbnUvGsZrt",
        "outputId": "042ca2cd-166a-4ebd-af4c-f6c9dd9e5f53"
      },
      "outputs": [
        {
          "data": {
            "text/html": [
              "\n",
              "  <div id=\"df-d681e2f4-5477-4e4c-a67c-de284488c7ca\">\n",
              "    <div class=\"colab-df-container\">\n",
              "      <div>\n",
              "<style scoped>\n",
              "    .dataframe tbody tr th:only-of-type {\n",
              "        vertical-align: middle;\n",
              "    }\n",
              "\n",
              "    .dataframe tbody tr th {\n",
              "        vertical-align: top;\n",
              "    }\n",
              "\n",
              "    .dataframe thead th {\n",
              "        text-align: right;\n",
              "    }\n",
              "</style>\n",
              "<table border=\"1\" class=\"dataframe\">\n",
              "  <thead>\n",
              "    <tr style=\"text-align: right;\">\n",
              "      <th></th>\n",
              "      <th>User ID</th>\n",
              "      <th>Age</th>\n",
              "      <th>EstimatedSalary</th>\n",
              "      <th>Purchased</th>\n",
              "    </tr>\n",
              "  </thead>\n",
              "  <tbody>\n",
              "    <tr>\n",
              "      <th>count</th>\n",
              "      <td>4.000000e+02</td>\n",
              "      <td>400.000000</td>\n",
              "      <td>400.000000</td>\n",
              "      <td>400.000000</td>\n",
              "    </tr>\n",
              "    <tr>\n",
              "      <th>mean</th>\n",
              "      <td>1.569154e+07</td>\n",
              "      <td>37.655000</td>\n",
              "      <td>69742.500000</td>\n",
              "      <td>0.357500</td>\n",
              "    </tr>\n",
              "    <tr>\n",
              "      <th>std</th>\n",
              "      <td>7.165832e+04</td>\n",
              "      <td>10.482877</td>\n",
              "      <td>34096.960282</td>\n",
              "      <td>0.479864</td>\n",
              "    </tr>\n",
              "    <tr>\n",
              "      <th>min</th>\n",
              "      <td>1.556669e+07</td>\n",
              "      <td>18.000000</td>\n",
              "      <td>15000.000000</td>\n",
              "      <td>0.000000</td>\n",
              "    </tr>\n",
              "    <tr>\n",
              "      <th>25%</th>\n",
              "      <td>1.562676e+07</td>\n",
              "      <td>29.750000</td>\n",
              "      <td>43000.000000</td>\n",
              "      <td>0.000000</td>\n",
              "    </tr>\n",
              "    <tr>\n",
              "      <th>50%</th>\n",
              "      <td>1.569434e+07</td>\n",
              "      <td>37.000000</td>\n",
              "      <td>70000.000000</td>\n",
              "      <td>0.000000</td>\n",
              "    </tr>\n",
              "    <tr>\n",
              "      <th>75%</th>\n",
              "      <td>1.575036e+07</td>\n",
              "      <td>46.000000</td>\n",
              "      <td>88000.000000</td>\n",
              "      <td>1.000000</td>\n",
              "    </tr>\n",
              "    <tr>\n",
              "      <th>max</th>\n",
              "      <td>1.581524e+07</td>\n",
              "      <td>60.000000</td>\n",
              "      <td>150000.000000</td>\n",
              "      <td>1.000000</td>\n",
              "    </tr>\n",
              "  </tbody>\n",
              "</table>\n",
              "</div>\n",
              "      <button class=\"colab-df-convert\" onclick=\"convertToInteractive('df-d681e2f4-5477-4e4c-a67c-de284488c7ca')\"\n",
              "              title=\"Convert this dataframe to an interactive table.\"\n",
              "              style=\"display:none;\">\n",
              "        \n",
              "  <svg xmlns=\"http://www.w3.org/2000/svg\" height=\"24px\"viewBox=\"0 0 24 24\"\n",
              "       width=\"24px\">\n",
              "    <path d=\"M0 0h24v24H0V0z\" fill=\"none\"/>\n",
              "    <path d=\"M18.56 5.44l.94 2.06.94-2.06 2.06-.94-2.06-.94-.94-2.06-.94 2.06-2.06.94zm-11 1L8.5 8.5l.94-2.06 2.06-.94-2.06-.94L8.5 2.5l-.94 2.06-2.06.94zm10 10l.94 2.06.94-2.06 2.06-.94-2.06-.94-.94-2.06-.94 2.06-2.06.94z\"/><path d=\"M17.41 7.96l-1.37-1.37c-.4-.4-.92-.59-1.43-.59-.52 0-1.04.2-1.43.59L10.3 9.45l-7.72 7.72c-.78.78-.78 2.05 0 2.83L4 21.41c.39.39.9.59 1.41.59.51 0 1.02-.2 1.41-.59l7.78-7.78 2.81-2.81c.8-.78.8-2.07 0-2.86zM5.41 20L4 18.59l7.72-7.72 1.47 1.35L5.41 20z\"/>\n",
              "  </svg>\n",
              "      </button>\n",
              "      \n",
              "  <style>\n",
              "    .colab-df-container {\n",
              "      display:flex;\n",
              "      flex-wrap:wrap;\n",
              "      gap: 12px;\n",
              "    }\n",
              "\n",
              "    .colab-df-convert {\n",
              "      background-color: #E8F0FE;\n",
              "      border: none;\n",
              "      border-radius: 50%;\n",
              "      cursor: pointer;\n",
              "      display: none;\n",
              "      fill: #1967D2;\n",
              "      height: 32px;\n",
              "      padding: 0 0 0 0;\n",
              "      width: 32px;\n",
              "    }\n",
              "\n",
              "    .colab-df-convert:hover {\n",
              "      background-color: #E2EBFA;\n",
              "      box-shadow: 0px 1px 2px rgba(60, 64, 67, 0.3), 0px 1px 3px 1px rgba(60, 64, 67, 0.15);\n",
              "      fill: #174EA6;\n",
              "    }\n",
              "\n",
              "    [theme=dark] .colab-df-convert {\n",
              "      background-color: #3B4455;\n",
              "      fill: #D2E3FC;\n",
              "    }\n",
              "\n",
              "    [theme=dark] .colab-df-convert:hover {\n",
              "      background-color: #434B5C;\n",
              "      box-shadow: 0px 1px 3px 1px rgba(0, 0, 0, 0.15);\n",
              "      filter: drop-shadow(0px 1px 2px rgba(0, 0, 0, 0.3));\n",
              "      fill: #FFFFFF;\n",
              "    }\n",
              "  </style>\n",
              "\n",
              "      <script>\n",
              "        const buttonEl =\n",
              "          document.querySelector('#df-d681e2f4-5477-4e4c-a67c-de284488c7ca button.colab-df-convert');\n",
              "        buttonEl.style.display =\n",
              "          google.colab.kernel.accessAllowed ? 'block' : 'none';\n",
              "\n",
              "        async function convertToInteractive(key) {\n",
              "          const element = document.querySelector('#df-d681e2f4-5477-4e4c-a67c-de284488c7ca');\n",
              "          const dataTable =\n",
              "            await google.colab.kernel.invokeFunction('convertToInteractive',\n",
              "                                                     [key], {});\n",
              "          if (!dataTable) return;\n",
              "\n",
              "          const docLinkHtml = 'Like what you see? Visit the ' +\n",
              "            '<a target=\"_blank\" href=https://colab.research.google.com/notebooks/data_table.ipynb>data table notebook</a>'\n",
              "            + ' to learn more about interactive tables.';\n",
              "          element.innerHTML = '';\n",
              "          dataTable['output_type'] = 'display_data';\n",
              "          await google.colab.output.renderOutput(dataTable, element);\n",
              "          const docLink = document.createElement('div');\n",
              "          docLink.innerHTML = docLinkHtml;\n",
              "          element.appendChild(docLink);\n",
              "        }\n",
              "      </script>\n",
              "    </div>\n",
              "  </div>\n",
              "  "
            ],
            "text/plain": [
              "            User ID         Age  EstimatedSalary   Purchased\n",
              "count  4.000000e+02  400.000000       400.000000  400.000000\n",
              "mean   1.569154e+07   37.655000     69742.500000    0.357500\n",
              "std    7.165832e+04   10.482877     34096.960282    0.479864\n",
              "min    1.556669e+07   18.000000     15000.000000    0.000000\n",
              "25%    1.562676e+07   29.750000     43000.000000    0.000000\n",
              "50%    1.569434e+07   37.000000     70000.000000    0.000000\n",
              "75%    1.575036e+07   46.000000     88000.000000    1.000000\n",
              "max    1.581524e+07   60.000000    150000.000000    1.000000"
            ]
          },
          "execution_count": 7,
          "metadata": {},
          "output_type": "execute_result"
        }
      ],
      "source": [
        "df.describe()"
      ]
    },
    {
      "cell_type": "code",
      "execution_count": 8,
      "metadata": {
        "id": "NnLIHuFgscVs"
      },
      "outputs": [],
      "source": [
        "x = df.iloc[:,[2,3]].values"
      ]
    },
    {
      "cell_type": "code",
      "execution_count": 9,
      "metadata": {
        "colab": {
          "base_uri": "https://localhost:8080/"
        },
        "id": "i6JJkmgXsiA0",
        "outputId": "4b746dcb-4836-49af-b8c7-5f2f0ab00fc6"
      },
      "outputs": [
        {
          "data": {
            "text/plain": [
              "array([[    19,  19000],\n",
              "       [    35,  20000],\n",
              "       [    26,  43000],\n",
              "       [    27,  57000],\n",
              "       [    19,  76000],\n",
              "       [    27,  58000],\n",
              "       [    27,  84000],\n",
              "       [    32, 150000],\n",
              "       [    25,  33000],\n",
              "       [    35,  65000],\n",
              "       [    26,  80000],\n",
              "       [    26,  52000],\n",
              "       [    20,  86000],\n",
              "       [    32,  18000],\n",
              "       [    18,  82000],\n",
              "       [    29,  80000],\n",
              "       [    47,  25000],\n",
              "       [    45,  26000],\n",
              "       [    46,  28000],\n",
              "       [    48,  29000],\n",
              "       [    45,  22000],\n",
              "       [    47,  49000],\n",
              "       [    48,  41000],\n",
              "       [    45,  22000],\n",
              "       [    46,  23000],\n",
              "       [    47,  20000],\n",
              "       [    49,  28000],\n",
              "       [    47,  30000],\n",
              "       [    29,  43000],\n",
              "       [    31,  18000],\n",
              "       [    31,  74000],\n",
              "       [    27, 137000],\n",
              "       [    21,  16000],\n",
              "       [    28,  44000],\n",
              "       [    27,  90000],\n",
              "       [    35,  27000],\n",
              "       [    33,  28000],\n",
              "       [    30,  49000],\n",
              "       [    26,  72000],\n",
              "       [    27,  31000],\n",
              "       [    27,  17000],\n",
              "       [    33,  51000],\n",
              "       [    35, 108000],\n",
              "       [    30,  15000],\n",
              "       [    28,  84000],\n",
              "       [    23,  20000],\n",
              "       [    25,  79000],\n",
              "       [    27,  54000],\n",
              "       [    30, 135000],\n",
              "       [    31,  89000],\n",
              "       [    24,  32000],\n",
              "       [    18,  44000],\n",
              "       [    29,  83000],\n",
              "       [    35,  23000],\n",
              "       [    27,  58000],\n",
              "       [    24,  55000],\n",
              "       [    23,  48000],\n",
              "       [    28,  79000],\n",
              "       [    22,  18000],\n",
              "       [    32, 117000],\n",
              "       [    27,  20000],\n",
              "       [    25,  87000],\n",
              "       [    23,  66000],\n",
              "       [    32, 120000],\n",
              "       [    59,  83000],\n",
              "       [    24,  58000],\n",
              "       [    24,  19000],\n",
              "       [    23,  82000],\n",
              "       [    22,  63000],\n",
              "       [    31,  68000],\n",
              "       [    25,  80000],\n",
              "       [    24,  27000],\n",
              "       [    20,  23000],\n",
              "       [    33, 113000],\n",
              "       [    32,  18000],\n",
              "       [    34, 112000],\n",
              "       [    18,  52000],\n",
              "       [    22,  27000],\n",
              "       [    28,  87000],\n",
              "       [    26,  17000],\n",
              "       [    30,  80000],\n",
              "       [    39,  42000],\n",
              "       [    20,  49000],\n",
              "       [    35,  88000],\n",
              "       [    30,  62000],\n",
              "       [    31, 118000],\n",
              "       [    24,  55000],\n",
              "       [    28,  85000],\n",
              "       [    26,  81000],\n",
              "       [    35,  50000],\n",
              "       [    22,  81000],\n",
              "       [    30, 116000],\n",
              "       [    26,  15000],\n",
              "       [    29,  28000],\n",
              "       [    29,  83000],\n",
              "       [    35,  44000],\n",
              "       [    35,  25000],\n",
              "       [    28, 123000],\n",
              "       [    35,  73000],\n",
              "       [    28,  37000],\n",
              "       [    27,  88000],\n",
              "       [    28,  59000],\n",
              "       [    32,  86000],\n",
              "       [    33, 149000],\n",
              "       [    19,  21000],\n",
              "       [    21,  72000],\n",
              "       [    26,  35000],\n",
              "       [    27,  89000],\n",
              "       [    26,  86000],\n",
              "       [    38,  80000],\n",
              "       [    39,  71000],\n",
              "       [    37,  71000],\n",
              "       [    38,  61000],\n",
              "       [    37,  55000],\n",
              "       [    42,  80000],\n",
              "       [    40,  57000],\n",
              "       [    35,  75000],\n",
              "       [    36,  52000],\n",
              "       [    40,  59000],\n",
              "       [    41,  59000],\n",
              "       [    36,  75000],\n",
              "       [    37,  72000],\n",
              "       [    40,  75000],\n",
              "       [    35,  53000],\n",
              "       [    41,  51000],\n",
              "       [    39,  61000],\n",
              "       [    42,  65000],\n",
              "       [    26,  32000],\n",
              "       [    30,  17000],\n",
              "       [    26,  84000],\n",
              "       [    31,  58000],\n",
              "       [    33,  31000],\n",
              "       [    30,  87000],\n",
              "       [    21,  68000],\n",
              "       [    28,  55000],\n",
              "       [    23,  63000],\n",
              "       [    20,  82000],\n",
              "       [    30, 107000],\n",
              "       [    28,  59000],\n",
              "       [    19,  25000],\n",
              "       [    19,  85000],\n",
              "       [    18,  68000],\n",
              "       [    35,  59000],\n",
              "       [    30,  89000],\n",
              "       [    34,  25000],\n",
              "       [    24,  89000],\n",
              "       [    27,  96000],\n",
              "       [    41,  30000],\n",
              "       [    29,  61000],\n",
              "       [    20,  74000],\n",
              "       [    26,  15000],\n",
              "       [    41,  45000],\n",
              "       [    31,  76000],\n",
              "       [    36,  50000],\n",
              "       [    40,  47000],\n",
              "       [    31,  15000],\n",
              "       [    46,  59000],\n",
              "       [    29,  75000],\n",
              "       [    26,  30000],\n",
              "       [    32, 135000],\n",
              "       [    32, 100000],\n",
              "       [    25,  90000],\n",
              "       [    37,  33000],\n",
              "       [    35,  38000],\n",
              "       [    33,  69000],\n",
              "       [    18,  86000],\n",
              "       [    22,  55000],\n",
              "       [    35,  71000],\n",
              "       [    29, 148000],\n",
              "       [    29,  47000],\n",
              "       [    21,  88000],\n",
              "       [    34, 115000],\n",
              "       [    26, 118000],\n",
              "       [    34,  43000],\n",
              "       [    34,  72000],\n",
              "       [    23,  28000],\n",
              "       [    35,  47000],\n",
              "       [    25,  22000],\n",
              "       [    24,  23000],\n",
              "       [    31,  34000],\n",
              "       [    26,  16000],\n",
              "       [    31,  71000],\n",
              "       [    32, 117000],\n",
              "       [    33,  43000],\n",
              "       [    33,  60000],\n",
              "       [    31,  66000],\n",
              "       [    20,  82000],\n",
              "       [    33,  41000],\n",
              "       [    35,  72000],\n",
              "       [    28,  32000],\n",
              "       [    24,  84000],\n",
              "       [    19,  26000],\n",
              "       [    29,  43000],\n",
              "       [    19,  70000],\n",
              "       [    28,  89000],\n",
              "       [    34,  43000],\n",
              "       [    30,  79000],\n",
              "       [    20,  36000],\n",
              "       [    26,  80000],\n",
              "       [    35,  22000],\n",
              "       [    35,  39000],\n",
              "       [    49,  74000],\n",
              "       [    39, 134000],\n",
              "       [    41,  71000],\n",
              "       [    58, 101000],\n",
              "       [    47,  47000],\n",
              "       [    55, 130000],\n",
              "       [    52, 114000],\n",
              "       [    40, 142000],\n",
              "       [    46,  22000],\n",
              "       [    48,  96000],\n",
              "       [    52, 150000],\n",
              "       [    59,  42000],\n",
              "       [    35,  58000],\n",
              "       [    47,  43000],\n",
              "       [    60, 108000],\n",
              "       [    49,  65000],\n",
              "       [    40,  78000],\n",
              "       [    46,  96000],\n",
              "       [    59, 143000],\n",
              "       [    41,  80000],\n",
              "       [    35,  91000],\n",
              "       [    37, 144000],\n",
              "       [    60, 102000],\n",
              "       [    35,  60000],\n",
              "       [    37,  53000],\n",
              "       [    36, 126000],\n",
              "       [    56, 133000],\n",
              "       [    40,  72000],\n",
              "       [    42,  80000],\n",
              "       [    35, 147000],\n",
              "       [    39,  42000],\n",
              "       [    40, 107000],\n",
              "       [    49,  86000],\n",
              "       [    38, 112000],\n",
              "       [    46,  79000],\n",
              "       [    40,  57000],\n",
              "       [    37,  80000],\n",
              "       [    46,  82000],\n",
              "       [    53, 143000],\n",
              "       [    42, 149000],\n",
              "       [    38,  59000],\n",
              "       [    50,  88000],\n",
              "       [    56, 104000],\n",
              "       [    41,  72000],\n",
              "       [    51, 146000],\n",
              "       [    35,  50000],\n",
              "       [    57, 122000],\n",
              "       [    41,  52000],\n",
              "       [    35,  97000],\n",
              "       [    44,  39000],\n",
              "       [    37,  52000],\n",
              "       [    48, 134000],\n",
              "       [    37, 146000],\n",
              "       [    50,  44000],\n",
              "       [    52,  90000],\n",
              "       [    41,  72000],\n",
              "       [    40,  57000],\n",
              "       [    58,  95000],\n",
              "       [    45, 131000],\n",
              "       [    35,  77000],\n",
              "       [    36, 144000],\n",
              "       [    55, 125000],\n",
              "       [    35,  72000],\n",
              "       [    48,  90000],\n",
              "       [    42, 108000],\n",
              "       [    40,  75000],\n",
              "       [    37,  74000],\n",
              "       [    47, 144000],\n",
              "       [    40,  61000],\n",
              "       [    43, 133000],\n",
              "       [    59,  76000],\n",
              "       [    60,  42000],\n",
              "       [    39, 106000],\n",
              "       [    57,  26000],\n",
              "       [    57,  74000],\n",
              "       [    38,  71000],\n",
              "       [    49,  88000],\n",
              "       [    52,  38000],\n",
              "       [    50,  36000],\n",
              "       [    59,  88000],\n",
              "       [    35,  61000],\n",
              "       [    37,  70000],\n",
              "       [    52,  21000],\n",
              "       [    48, 141000],\n",
              "       [    37,  93000],\n",
              "       [    37,  62000],\n",
              "       [    48, 138000],\n",
              "       [    41,  79000],\n",
              "       [    37,  78000],\n",
              "       [    39, 134000],\n",
              "       [    49,  89000],\n",
              "       [    55,  39000],\n",
              "       [    37,  77000],\n",
              "       [    35,  57000],\n",
              "       [    36,  63000],\n",
              "       [    42,  73000],\n",
              "       [    43, 112000],\n",
              "       [    45,  79000],\n",
              "       [    46, 117000],\n",
              "       [    58,  38000],\n",
              "       [    48,  74000],\n",
              "       [    37, 137000],\n",
              "       [    37,  79000],\n",
              "       [    40,  60000],\n",
              "       [    42,  54000],\n",
              "       [    51, 134000],\n",
              "       [    47, 113000],\n",
              "       [    36, 125000],\n",
              "       [    38,  50000],\n",
              "       [    42,  70000],\n",
              "       [    39,  96000],\n",
              "       [    38,  50000],\n",
              "       [    49, 141000],\n",
              "       [    39,  79000],\n",
              "       [    39,  75000],\n",
              "       [    54, 104000],\n",
              "       [    35,  55000],\n",
              "       [    45,  32000],\n",
              "       [    36,  60000],\n",
              "       [    52, 138000],\n",
              "       [    53,  82000],\n",
              "       [    41,  52000],\n",
              "       [    48,  30000],\n",
              "       [    48, 131000],\n",
              "       [    41,  60000],\n",
              "       [    41,  72000],\n",
              "       [    42,  75000],\n",
              "       [    36, 118000],\n",
              "       [    47, 107000],\n",
              "       [    38,  51000],\n",
              "       [    48, 119000],\n",
              "       [    42,  65000],\n",
              "       [    40,  65000],\n",
              "       [    57,  60000],\n",
              "       [    36,  54000],\n",
              "       [    58, 144000],\n",
              "       [    35,  79000],\n",
              "       [    38,  55000],\n",
              "       [    39, 122000],\n",
              "       [    53, 104000],\n",
              "       [    35,  75000],\n",
              "       [    38,  65000],\n",
              "       [    47,  51000],\n",
              "       [    47, 105000],\n",
              "       [    41,  63000],\n",
              "       [    53,  72000],\n",
              "       [    54, 108000],\n",
              "       [    39,  77000],\n",
              "       [    38,  61000],\n",
              "       [    38, 113000],\n",
              "       [    37,  75000],\n",
              "       [    42,  90000],\n",
              "       [    37,  57000],\n",
              "       [    36,  99000],\n",
              "       [    60,  34000],\n",
              "       [    54,  70000],\n",
              "       [    41,  72000],\n",
              "       [    40,  71000],\n",
              "       [    42,  54000],\n",
              "       [    43, 129000],\n",
              "       [    53,  34000],\n",
              "       [    47,  50000],\n",
              "       [    42,  79000],\n",
              "       [    42, 104000],\n",
              "       [    59,  29000],\n",
              "       [    58,  47000],\n",
              "       [    46,  88000],\n",
              "       [    38,  71000],\n",
              "       [    54,  26000],\n",
              "       [    60,  46000],\n",
              "       [    60,  83000],\n",
              "       [    39,  73000],\n",
              "       [    59, 130000],\n",
              "       [    37,  80000],\n",
              "       [    46,  32000],\n",
              "       [    46,  74000],\n",
              "       [    42,  53000],\n",
              "       [    41,  87000],\n",
              "       [    58,  23000],\n",
              "       [    42,  64000],\n",
              "       [    48,  33000],\n",
              "       [    44, 139000],\n",
              "       [    49,  28000],\n",
              "       [    57,  33000],\n",
              "       [    56,  60000],\n",
              "       [    49,  39000],\n",
              "       [    39,  71000],\n",
              "       [    47,  34000],\n",
              "       [    48,  35000],\n",
              "       [    48,  33000],\n",
              "       [    47,  23000],\n",
              "       [    45,  45000],\n",
              "       [    60,  42000],\n",
              "       [    39,  59000],\n",
              "       [    46,  41000],\n",
              "       [    51,  23000],\n",
              "       [    50,  20000],\n",
              "       [    36,  33000],\n",
              "       [    49,  36000]])"
            ]
          },
          "execution_count": 9,
          "metadata": {},
          "output_type": "execute_result"
        }
      ],
      "source": [
        "x"
      ]
    },
    {
      "cell_type": "code",
      "execution_count": 10,
      "metadata": {
        "id": "Nfp3rg2Osill"
      },
      "outputs": [],
      "source": [
        "y = df.iloc[:,4].values"
      ]
    },
    {
      "cell_type": "code",
      "execution_count": 11,
      "metadata": {
        "colab": {
          "base_uri": "https://localhost:8080/"
        },
        "id": "BHjuI9rysniZ",
        "outputId": "8f0c2338-3de7-4fab-8be5-00323076599f"
      },
      "outputs": [
        {
          "data": {
            "text/plain": [
              "array([0, 0, 0, 0, 0, 0, 0, 1, 0, 0, 0, 0, 0, 0, 0, 0, 1, 1, 1, 1, 1, 1,\n",
              "       1, 1, 1, 1, 1, 1, 0, 0, 0, 1, 0, 0, 0, 0, 0, 0, 0, 0, 0, 0, 0, 0,\n",
              "       0, 0, 0, 0, 1, 0, 0, 0, 0, 0, 0, 0, 0, 0, 0, 0, 0, 0, 0, 1, 0, 0,\n",
              "       0, 0, 0, 0, 0, 0, 0, 0, 0, 1, 0, 0, 0, 0, 0, 0, 0, 0, 0, 1, 0, 0,\n",
              "       0, 0, 0, 0, 0, 0, 0, 0, 0, 1, 0, 0, 0, 0, 0, 1, 0, 0, 0, 0, 0, 0,\n",
              "       0, 0, 0, 0, 0, 0, 0, 0, 0, 0, 0, 0, 0, 0, 0, 0, 0, 0, 0, 0, 0, 0,\n",
              "       0, 0, 0, 0, 0, 1, 0, 0, 0, 0, 0, 0, 0, 0, 1, 0, 0, 0, 0, 0, 0, 0,\n",
              "       0, 0, 0, 0, 0, 1, 1, 0, 0, 0, 0, 0, 0, 0, 1, 0, 0, 0, 0, 0, 0, 0,\n",
              "       0, 0, 0, 0, 0, 0, 1, 0, 0, 0, 0, 0, 0, 0, 0, 0, 0, 0, 0, 0, 0, 0,\n",
              "       0, 0, 0, 0, 1, 0, 1, 0, 1, 0, 1, 0, 1, 1, 0, 0, 0, 1, 0, 0, 0, 1,\n",
              "       0, 1, 1, 1, 0, 0, 1, 1, 0, 1, 1, 0, 1, 1, 0, 1, 0, 0, 0, 1, 1, 0,\n",
              "       1, 1, 0, 1, 0, 1, 0, 1, 0, 0, 1, 1, 0, 1, 0, 0, 1, 1, 0, 1, 1, 0,\n",
              "       1, 1, 0, 0, 1, 0, 0, 1, 1, 1, 1, 1, 0, 1, 1, 1, 1, 0, 1, 1, 0, 1,\n",
              "       0, 1, 0, 1, 1, 1, 1, 0, 0, 0, 1, 1, 0, 1, 1, 1, 1, 1, 0, 0, 0, 1,\n",
              "       1, 0, 0, 1, 0, 1, 0, 1, 1, 0, 1, 0, 1, 1, 0, 1, 1, 0, 0, 0, 1, 1,\n",
              "       0, 1, 0, 0, 1, 0, 1, 0, 0, 1, 1, 0, 0, 1, 1, 0, 1, 1, 0, 0, 1, 0,\n",
              "       1, 0, 1, 1, 1, 0, 1, 0, 1, 1, 1, 0, 1, 1, 1, 1, 0, 1, 1, 1, 0, 1,\n",
              "       0, 1, 0, 0, 1, 1, 0, 1, 1, 1, 1, 1, 1, 0, 1, 1, 1, 1, 1, 1, 0, 1,\n",
              "       1, 1, 0, 1])"
            ]
          },
          "execution_count": 11,
          "metadata": {},
          "output_type": "execute_result"
        }
      ],
      "source": [
        "y"
      ]
    },
    {
      "cell_type": "code",
      "execution_count": 12,
      "metadata": {
        "id": "ebWkmoXZsok1"
      },
      "outputs": [],
      "source": [
        "from sklearn.model_selection import train_test_split\n",
        "(x_train,x_test,y_train,y_test) = train_test_split(x,y,test_size = 0.25)"
      ]
    },
    {
      "cell_type": "code",
      "execution_count": 13,
      "metadata": {
        "colab": {
          "base_uri": "https://localhost:8080/"
        },
        "id": "BpvSkYXBtKZh",
        "outputId": "965e2938-f065-4c2c-9f9c-c9355a3793fa"
      },
      "outputs": [
        {
          "data": {
            "text/plain": [
              "array([[    37,  72000],\n",
              "       [    24,  32000],\n",
              "       [    53,  82000],\n",
              "       [    19,  85000],\n",
              "       [    18,  52000],\n",
              "       [    30, 116000],\n",
              "       [    46,  28000],\n",
              "       [    28,  37000],\n",
              "       [    30,  87000],\n",
              "       [    34,  43000],\n",
              "       [    36,  75000],\n",
              "       [    46,  96000],\n",
              "       [    20,  36000],\n",
              "       [    30, 135000],\n",
              "       [    48,  35000],\n",
              "       [    55, 130000],\n",
              "       [    26,  84000],\n",
              "       [    24,  27000],\n",
              "       [    37,  77000],\n",
              "       [    58,  23000],\n",
              "       [    37,  78000],\n",
              "       [    27,  57000],\n",
              "       [    39, 134000],\n",
              "       [    40,  78000],\n",
              "       [    34, 115000],\n",
              "       [    18,  82000],\n",
              "       [    35,  39000],\n",
              "       [    37,  80000],\n",
              "       [    47,  43000],\n",
              "       [    47,  30000],\n",
              "       [    30, 107000],\n",
              "       [    36, 125000],\n",
              "       [    55,  39000],\n",
              "       [    21,  88000],\n",
              "       [    36,  99000],\n",
              "       [    35,  97000],\n",
              "       [    41,  87000],\n",
              "       [    27,  96000],\n",
              "       [    54,  26000],\n",
              "       [    46,  22000],\n",
              "       [    35,  79000],\n",
              "       [    46,  32000],\n",
              "       [    22,  55000],\n",
              "       [    20,  74000],\n",
              "       [    59,  76000],\n",
              "       [    37,  79000],\n",
              "       [    49,  88000],\n",
              "       [    26,  35000],\n",
              "       [    37, 137000],\n",
              "       [    29, 148000],\n",
              "       [    32, 117000],\n",
              "       [    38,  50000],\n",
              "       [    31, 118000],\n",
              "       [    21,  16000],\n",
              "       [    43, 129000],\n",
              "       [    21,  72000],\n",
              "       [    49,  74000],\n",
              "       [    35,  22000],\n",
              "       [    56, 104000],\n",
              "       [    34,  43000],\n",
              "       [    26,  15000],\n",
              "       [    27,  54000],\n",
              "       [    52, 138000],\n",
              "       [    35,  50000],\n",
              "       [    36, 126000],\n",
              "       [    35,  55000],\n",
              "       [    41,  60000],\n",
              "       [    38,  65000],\n",
              "       [    42,  54000],\n",
              "       [    31,  76000],\n",
              "       [    35,  25000],\n",
              "       [    42,  80000],\n",
              "       [    22,  18000],\n",
              "       [    47,  47000],\n",
              "       [    49,  65000],\n",
              "       [    42,  90000],\n",
              "       [    60,  42000],\n",
              "       [    59, 130000],\n",
              "       [    33,  43000],\n",
              "       [    39,  75000],\n",
              "       [    26,  80000],\n",
              "       [    40, 142000],\n",
              "       [    31,  68000],\n",
              "       [    28, 123000],\n",
              "       [    51, 134000],\n",
              "       [    49,  39000],\n",
              "       [    38,  59000],\n",
              "       [    26,  17000],\n",
              "       [    49,  36000],\n",
              "       [    40,  71000],\n",
              "       [    31,  74000],\n",
              "       [    39, 106000],\n",
              "       [    25,  87000],\n",
              "       [    38,  55000],\n",
              "       [    30,  89000],\n",
              "       [    42,  64000],\n",
              "       [    39,  59000],\n",
              "       [    38,  71000],\n",
              "       [    42,  65000],\n",
              "       [    40,  57000],\n",
              "       [    39,  42000],\n",
              "       [    24,  23000],\n",
              "       [    39, 122000],\n",
              "       [    23,  20000],\n",
              "       [    45,  79000],\n",
              "       [    26,  32000],\n",
              "       [    28,  32000],\n",
              "       [    49,  86000],\n",
              "       [    50,  36000],\n",
              "       [    28,  85000],\n",
              "       [    46,  82000],\n",
              "       [    18,  44000],\n",
              "       [    40,  75000],\n",
              "       [    38,  61000],\n",
              "       [    35,  60000],\n",
              "       [    45,  26000],\n",
              "       [    35,  65000],\n",
              "       [    60,  83000],\n",
              "       [    30,  15000],\n",
              "       [    29,  75000],\n",
              "       [    48,  96000],\n",
              "       [    49,  28000],\n",
              "       [    53, 143000],\n",
              "       [    34,  25000],\n",
              "       [    37,  62000],\n",
              "       [    36,  60000],\n",
              "       [    50,  88000],\n",
              "       [    41,  80000],\n",
              "       [    29,  43000],\n",
              "       [    53, 104000],\n",
              "       [    50,  44000],\n",
              "       [    46,  23000],\n",
              "       [    34, 112000],\n",
              "       [    31,  66000],\n",
              "       [    28,  89000],\n",
              "       [    30,  62000],\n",
              "       [    26,  81000],\n",
              "       [    42,  73000],\n",
              "       [    19,  70000],\n",
              "       [    40,  57000],\n",
              "       [    48,  30000],\n",
              "       [    40,  75000],\n",
              "       [    60, 108000],\n",
              "       [    39,  96000],\n",
              "       [    59,  29000],\n",
              "       [    22,  63000],\n",
              "       [    31,  18000],\n",
              "       [    28,  59000],\n",
              "       [    26,  43000],\n",
              "       [    25,  80000],\n",
              "       [    53,  34000],\n",
              "       [    35,  73000],\n",
              "       [    32, 100000],\n",
              "       [    27,  20000],\n",
              "       [    20,  82000],\n",
              "       [    24,  89000],\n",
              "       [    33,  69000],\n",
              "       [    41,  63000],\n",
              "       [    38,  71000],\n",
              "       [    27,  89000],\n",
              "       [    58,  38000],\n",
              "       [    60, 102000],\n",
              "       [    19,  76000],\n",
              "       [    37,  80000],\n",
              "       [    24,  84000],\n",
              "       [    19,  21000],\n",
              "       [    24,  58000],\n",
              "       [    39,  71000],\n",
              "       [    41,  59000],\n",
              "       [    33,  28000],\n",
              "       [    37,  53000],\n",
              "       [    44, 139000],\n",
              "       [    43, 112000],\n",
              "       [    47,  25000],\n",
              "       [    39, 134000],\n",
              "       [    48,  41000],\n",
              "       [    38, 113000],\n",
              "       [    26,  16000],\n",
              "       [    31,  89000],\n",
              "       [    35,  57000],\n",
              "       [    42,  53000],\n",
              "       [    32,  18000],\n",
              "       [    59,  42000],\n",
              "       [    35,  75000],\n",
              "       [    23,  82000],\n",
              "       [    35,  23000],\n",
              "       [    27,  31000],\n",
              "       [    25,  79000],\n",
              "       [    26,  15000],\n",
              "       [    47,  50000],\n",
              "       [    52,  90000],\n",
              "       [    29,  80000],\n",
              "       [    35,  71000],\n",
              "       [    51,  23000],\n",
              "       [    36,  50000],\n",
              "       [    46,  79000],\n",
              "       [    27,  88000],\n",
              "       [    57,  60000],\n",
              "       [    37,  93000],\n",
              "       [    31,  71000],\n",
              "       [    60,  46000],\n",
              "       [    38,  80000],\n",
              "       [    33,  60000],\n",
              "       [    28,  44000],\n",
              "       [    29,  43000],\n",
              "       [    42,  75000],\n",
              "       [    40,  57000],\n",
              "       [    57, 122000],\n",
              "       [    25,  33000],\n",
              "       [    48, 138000],\n",
              "       [    51, 146000],\n",
              "       [    37, 144000],\n",
              "       [    39,  73000],\n",
              "       [    30,  79000],\n",
              "       [    20,  82000],\n",
              "       [    27,  58000],\n",
              "       [    48, 134000],\n",
              "       [    35,  53000],\n",
              "       [    39,  79000],\n",
              "       [    57,  26000],\n",
              "       [    38,  51000],\n",
              "       [    35, 147000],\n",
              "       [    27, 137000],\n",
              "       [    40,  47000],\n",
              "       [    27,  84000],\n",
              "       [    38, 112000],\n",
              "       [    34,  72000],\n",
              "       [    41,  72000],\n",
              "       [    32, 117000],\n",
              "       [    24,  55000],\n",
              "       [    39,  61000],\n",
              "       [    49,  28000],\n",
              "       [    47,  51000],\n",
              "       [    45,  22000],\n",
              "       [    27,  17000],\n",
              "       [    36,  54000],\n",
              "       [    57,  33000],\n",
              "       [    35,  47000],\n",
              "       [    30,  80000],\n",
              "       [    18,  68000],\n",
              "       [    47, 105000],\n",
              "       [    37,  70000],\n",
              "       [    19,  25000],\n",
              "       [    35,  77000],\n",
              "       [    58, 101000],\n",
              "       [    18,  86000],\n",
              "       [    35,  75000],\n",
              "       [    59,  88000],\n",
              "       [    27,  90000],\n",
              "       [    46,  59000],\n",
              "       [    35,  88000],\n",
              "       [    29,  83000],\n",
              "       [    29,  61000],\n",
              "       [    33, 113000],\n",
              "       [    41,  72000],\n",
              "       [    31,  34000],\n",
              "       [    41,  30000],\n",
              "       [    39,  71000],\n",
              "       [    42,  54000],\n",
              "       [    37,  75000],\n",
              "       [    48,  29000],\n",
              "       [    58, 144000],\n",
              "       [    22,  81000],\n",
              "       [    55, 125000],\n",
              "       [    47, 144000],\n",
              "       [    56, 133000],\n",
              "       [    35,  91000],\n",
              "       [    32, 150000],\n",
              "       [    40,  65000],\n",
              "       [    24,  19000],\n",
              "       [    41,  79000],\n",
              "       [    37, 146000],\n",
              "       [    35, 108000],\n",
              "       [    36, 144000],\n",
              "       [    42,  79000],\n",
              "       [    44,  39000],\n",
              "       [    32, 120000],\n",
              "       [    45,  22000],\n",
              "       [    29,  83000],\n",
              "       [    45, 131000],\n",
              "       [    33,  31000],\n",
              "       [    56,  60000],\n",
              "       [    32, 135000],\n",
              "       [    42,  80000],\n",
              "       [    49, 141000],\n",
              "       [    48,  33000],\n",
              "       [    54, 108000],\n",
              "       [    41,  71000],\n",
              "       [    23,  66000],\n",
              "       [    45,  32000],\n",
              "       [    31,  15000],\n",
              "       [    35,  72000],\n",
              "       [    41,  52000],\n",
              "       [    35,  50000],\n",
              "       [    47,  49000],\n",
              "       [    37,  55000],\n",
              "       [    41,  72000],\n",
              "       [    37,  52000],\n",
              "       [    26,  72000],\n",
              "       [    28,  55000]])"
            ]
          },
          "execution_count": 13,
          "metadata": {},
          "output_type": "execute_result"
        }
      ],
      "source": [
        "x_train "
      ]
    },
    {
      "cell_type": "code",
      "execution_count": 14,
      "metadata": {
        "colab": {
          "base_uri": "https://localhost:8080/"
        },
        "id": "tWRVSm31tgP5",
        "outputId": "b44c850f-f441-4e2d-b57f-a5b2af3f47cb"
      },
      "outputs": [
        {
          "data": {
            "text/plain": [
              "(300, 2)"
            ]
          },
          "execution_count": 14,
          "metadata": {},
          "output_type": "execute_result"
        }
      ],
      "source": [
        "x_train.shape"
      ]
    },
    {
      "cell_type": "code",
      "execution_count": 16,
      "metadata": {
        "colab": {
          "base_uri": "https://localhost:8080/"
        },
        "id": "7qucxPWlti8P",
        "outputId": "f60716d6-5fa5-4e1c-9e86-6c62ee85dbaf"
      },
      "outputs": [
        {
          "data": {
            "text/plain": [
              "array([0, 1, 0, 1, 0, 0, 0, 0, 0, 1, 1, 0, 0, 0, 1, 1, 0, 1, 1, 1, 1, 0,\n",
              "       0, 0, 0, 0, 0, 1, 0, 0, 0, 0, 0, 0, 0, 0, 1, 1, 0, 1, 0, 0, 1, 1,\n",
              "       1, 0, 0, 1, 0, 0, 0, 0, 0, 1, 0, 0, 1, 0, 0, 0, 1, 0, 0, 1, 0, 0,\n",
              "       1, 0, 0, 1, 1, 1, 0, 0, 0, 0, 0, 1, 0, 0, 1, 0, 0, 0, 0, 1, 0, 0,\n",
              "       1, 0, 1, 0, 1, 0, 1, 0, 0, 0, 0, 1])"
            ]
          },
          "execution_count": 16,
          "metadata": {},
          "output_type": "execute_result"
        }
      ],
      "source": [
        "y_test"
      ]
    },
    {
      "cell_type": "code",
      "execution_count": 17,
      "metadata": {
        "colab": {
          "base_uri": "https://localhost:8080/"
        },
        "id": "ws_Dl6Z9tlHn",
        "outputId": "5f8741ad-084b-4f10-a80f-dad867e46521"
      },
      "outputs": [
        {
          "data": {
            "text/plain": [
              "(100,)"
            ]
          },
          "execution_count": 17,
          "metadata": {},
          "output_type": "execute_result"
        }
      ],
      "source": [
        "y_test.shape"
      ]
    },
    {
      "cell_type": "code",
      "execution_count": 18,
      "metadata": {
        "colab": {
          "base_uri": "https://localhost:8080/"
        },
        "id": "9c5DyxcjtsCG",
        "outputId": "ffd0de90-1b20-46ef-d877-da50cd385ff9"
      },
      "outputs": [
        {
          "data": {
            "text/plain": [
              "array([0, 0, 1, 0, 0, 0, 1, 0, 0, 0, 0, 0, 0, 1, 1, 1, 0, 0, 0, 1, 1, 0,\n",
              "       1, 0, 0, 0, 0, 0, 0, 1, 1, 1, 1, 0, 1, 1, 1, 1, 1, 0, 0, 1, 0, 0,\n",
              "       1, 1, 1, 0, 1, 1, 0, 0, 1, 0, 1, 0, 0, 0, 1, 0, 0, 0, 1, 0, 1, 0,\n",
              "       0, 0, 0, 0, 0, 1, 0, 0, 0, 1, 1, 1, 0, 1, 0, 1, 0, 1, 0, 1, 0, 0,\n",
              "       1, 1, 0, 1, 0, 0, 0, 0, 0, 0, 0, 0, 0, 0, 1, 0, 0, 0, 0, 1, 1, 0,\n",
              "       0, 0, 0, 0, 0, 1, 0, 1, 0, 0, 1, 1, 1, 0, 0, 0, 1, 0, 0, 1, 0, 1,\n",
              "       1, 0, 0, 0, 0, 1, 0, 0, 1, 0, 1, 1, 1, 0, 0, 0, 0, 0, 1, 0, 1, 0,\n",
              "       0, 0, 0, 0, 0, 0, 1, 1, 0, 0, 0, 0, 0, 0, 0, 0, 0, 1, 1, 1, 1, 1,\n",
              "       1, 0, 0, 0, 0, 0, 0, 0, 0, 0, 0, 0, 0, 1, 1, 0, 0, 1, 0, 1, 0, 1,\n",
              "       1, 0, 1, 0, 0, 0, 0, 0, 0, 1, 0, 1, 1, 1, 0, 0, 0, 0, 1, 0, 0, 1,\n",
              "       0, 1, 1, 0, 0, 0, 0, 0, 1, 0, 0, 1, 1, 1, 0, 0, 1, 0, 0, 0, 1, 1,\n",
              "       0, 0, 1, 0, 0, 1, 0, 0, 0, 0, 0, 0, 0, 0, 0, 0, 0, 0, 1, 1, 0, 1,\n",
              "       1, 1, 1, 1, 0, 0, 0, 1, 0, 1, 0, 0, 1, 1, 0, 1, 0, 1, 1, 0, 1, 1,\n",
              "       1, 0, 0, 1, 0, 0, 0, 0, 1, 0, 0, 0, 0, 0])"
            ]
          },
          "execution_count": 18,
          "metadata": {},
          "output_type": "execute_result"
        }
      ],
      "source": [
        "y_train"
      ]
    },
    {
      "cell_type": "code",
      "execution_count": 19,
      "metadata": {
        "colab": {
          "base_uri": "https://localhost:8080/"
        },
        "id": "mhDJPdj8ttnw",
        "outputId": "0ea3d025-c8db-4a12-facf-d675d9999637"
      },
      "outputs": [
        {
          "data": {
            "text/plain": [
              "(300,)"
            ]
          },
          "execution_count": 19,
          "metadata": {},
          "output_type": "execute_result"
        }
      ],
      "source": [
        "y_train.shape"
      ]
    },
    {
      "cell_type": "code",
      "execution_count": 22,
      "metadata": {
        "id": "FPKgNrIrtxqI"
      },
      "outputs": [],
      "source": [
        "from sklearn.preprocessing import StandardScaler\n",
        "sc_x = StandardScaler()\n",
        "x_train = sc_x.fit_transform(x_train)\n",
        "x_test = sc_x.fit_transform(x_test)"
      ]
    },
    {
      "cell_type": "code",
      "execution_count": 23,
      "metadata": {
        "colab": {
          "base_uri": "https://localhost:8080/"
        },
        "id": "ofYkQ4ZiuMmm",
        "outputId": "9383d037-8cf5-41b4-a80e-dd2ae7e9842b"
      },
      "outputs": [
        {
          "data": {
            "text/plain": [
              "array([[-0.03954234,  0.03406796],\n",
              "       [-1.29332372, -1.1406893 ],\n",
              "       [ 1.50357321,  0.32775728],\n",
              "       [-1.77554733,  0.41586407],\n",
              "       [-1.87199205, -0.55331067],\n",
              "       [-0.71465539,  1.32630095],\n",
              "       [ 0.82846016, -1.25816503],\n",
              "       [-0.90754483, -0.99384464],\n",
              "       [-0.71465539,  0.47460193],\n",
              "       [-0.3288765 , -0.81763105],\n",
              "       [-0.13598706,  0.12217476],\n",
              "       [ 0.82846016,  0.73892232],\n",
              "       [-1.6791026 , -1.02321357],\n",
              "       [-0.71465539,  1.88431065],\n",
              "       [ 1.0213496 , -1.05258251],\n",
              "       [ 1.69646265,  1.73746599],\n",
              "       [-1.10043427,  0.38649514],\n",
              "       [-1.29332372, -1.28753396],\n",
              "       [-0.03954234,  0.18091262],\n",
              "       [ 1.98579682, -1.40500968],\n",
              "       [-0.03954234,  0.21028155],\n",
              "       [-1.00398955, -0.40646601],\n",
              "       [ 0.15334711,  1.85494172],\n",
              "       [ 0.24979183,  0.21028155],\n",
              "       [-0.3288765 ,  1.29693202],\n",
              "       [-1.87199205,  0.32775728],\n",
              "       [-0.23243178, -0.93510678],\n",
              "       [-0.03954234,  0.26901941],\n",
              "       [ 0.92490488, -0.81763105],\n",
              "       [ 0.92490488, -1.19942716],\n",
              "       [-0.71465539,  1.06198056],\n",
              "       [-0.13598706,  1.59062133],\n",
              "       [ 1.69646265, -0.93510678],\n",
              "       [-1.58265788,  0.50397087],\n",
              "       [-0.13598706,  0.82702911],\n",
              "       [-0.23243178,  0.76829125],\n",
              "       [ 0.34623655,  0.47460193],\n",
              "       [-1.00398955,  0.73892232],\n",
              "       [ 1.60001793, -1.31690289],\n",
              "       [ 0.82846016, -1.43437862],\n",
              "       [-0.23243178,  0.23965048],\n",
              "       [ 0.82846016, -1.1406893 ],\n",
              "       [-1.48621316, -0.46520388],\n",
              "       [-1.6791026 ,  0.09280582],\n",
              "       [ 2.08224154,  0.15154369],\n",
              "       [-0.03954234,  0.23965048],\n",
              "       [ 1.11779432,  0.50397087],\n",
              "       [-1.10043427, -1.05258251],\n",
              "       [-0.03954234,  1.94304851],\n",
              "       [-0.81110011,  2.26610676],\n",
              "       [-0.52176594,  1.35566988],\n",
              "       [ 0.05690239, -0.61204853],\n",
              "       [-0.61821067,  1.38503881],\n",
              "       [-1.58265788, -1.61059221],\n",
              "       [ 0.53912599,  1.70809706],\n",
              "       [-1.58265788,  0.03406796],\n",
              "       [ 1.11779432,  0.09280582],\n",
              "       [-0.23243178, -1.43437862],\n",
              "       [ 1.79290738,  0.97387377],\n",
              "       [-0.3288765 , -0.81763105],\n",
              "       [-1.10043427, -1.63996114],\n",
              "       [-1.00398955, -0.49457281],\n",
              "       [ 1.40712849,  1.97241744],\n",
              "       [-0.23243178, -0.61204853],\n",
              "       [-0.13598706,  1.61999026],\n",
              "       [-0.23243178, -0.46520388],\n",
              "       [ 0.34623655, -0.31835922],\n",
              "       [ 0.05690239, -0.17151456],\n",
              "       [ 0.44268127, -0.49457281],\n",
              "       [-0.61821067,  0.15154369],\n",
              "       [-0.23243178, -1.34627182],\n",
              "       [ 0.44268127,  0.26901941],\n",
              "       [-1.48621316, -1.55185434],\n",
              "       [ 0.92490488, -0.70015533],\n",
              "       [ 1.11779432, -0.17151456],\n",
              "       [ 0.44268127,  0.56270873],\n",
              "       [ 2.17868626, -0.84699999],\n",
              "       [ 2.08224154,  1.73746599],\n",
              "       [-0.42532122, -0.81763105],\n",
              "       [ 0.15334711,  0.12217476],\n",
              "       [-1.10043427,  0.26901941],\n",
              "       [ 0.24979183,  2.08989317],\n",
              "       [-0.61821067, -0.08340777],\n",
              "       [-0.90754483,  1.53188347],\n",
              "       [ 1.31068377,  1.85494172],\n",
              "       [ 1.11779432, -0.93510678],\n",
              "       [ 0.05690239, -0.34772815],\n",
              "       [-1.10043427, -1.58122327],\n",
              "       [ 1.11779432, -1.02321357],\n",
              "       [ 0.24979183,  0.00469903],\n",
              "       [-0.61821067,  0.09280582],\n",
              "       [ 0.15334711,  1.03261163],\n",
              "       [-1.196879  ,  0.47460193],\n",
              "       [ 0.05690239, -0.46520388],\n",
              "       [-0.71465539,  0.5333398 ],\n",
              "       [ 0.44268127, -0.20088349],\n",
              "       [ 0.15334711, -0.34772815],\n",
              "       [ 0.05690239,  0.00469903],\n",
              "       [ 0.44268127, -0.17151456],\n",
              "       [ 0.24979183, -0.40646601],\n",
              "       [ 0.15334711, -0.84699999],\n",
              "       [-1.29332372, -1.40500968],\n",
              "       [ 0.15334711,  1.50251454],\n",
              "       [-1.38976844, -1.49311648],\n",
              "       [ 0.73201544,  0.23965048],\n",
              "       [-1.10043427, -1.1406893 ],\n",
              "       [-0.90754483, -1.1406893 ],\n",
              "       [ 1.11779432,  0.445233  ],\n",
              "       [ 1.21423905, -1.02321357],\n",
              "       [-0.90754483,  0.41586407],\n",
              "       [ 0.82846016,  0.32775728],\n",
              "       [-1.87199205, -0.78826212],\n",
              "       [ 0.24979183,  0.12217476],\n",
              "       [ 0.05690239, -0.28899029],\n",
              "       [-0.23243178, -0.31835922],\n",
              "       [ 0.73201544, -1.31690289],\n",
              "       [-0.23243178, -0.17151456],\n",
              "       [ 2.17868626,  0.35712621],\n",
              "       [-0.71465539, -1.63996114],\n",
              "       [-0.81110011,  0.12217476],\n",
              "       [ 1.0213496 ,  0.73892232],\n",
              "       [ 1.11779432, -1.25816503],\n",
              "       [ 1.50357321,  2.1192621 ],\n",
              "       [-0.3288765 , -1.34627182],\n",
              "       [-0.03954234, -0.25962135],\n",
              "       [-0.13598706, -0.31835922],\n",
              "       [ 1.21423905,  0.50397087],\n",
              "       [ 0.34623655,  0.26901941],\n",
              "       [-0.81110011, -0.81763105],\n",
              "       [ 1.50357321,  0.97387377],\n",
              "       [ 1.21423905, -0.78826212],\n",
              "       [ 0.82846016, -1.40500968],\n",
              "       [-0.3288765 ,  1.20882522],\n",
              "       [-0.61821067, -0.14214563],\n",
              "       [-0.90754483,  0.5333398 ],\n",
              "       [-0.71465539, -0.25962135],\n",
              "       [-1.10043427,  0.29838834],\n",
              "       [ 0.44268127,  0.06343689],\n",
              "       [-1.77554733, -0.0246699 ],\n",
              "       [ 0.24979183, -0.40646601],\n",
              "       [ 1.0213496 , -1.19942716],\n",
              "       [ 0.24979183,  0.12217476],\n",
              "       [ 2.17868626,  1.0913495 ],\n",
              "       [ 0.15334711,  0.73892232],\n",
              "       [ 2.08224154, -1.2287961 ],\n",
              "       [-1.48621316, -0.23025242],\n",
              "       [-0.61821067, -1.55185434],\n",
              "       [-0.90754483, -0.34772815],\n",
              "       [-1.10043427, -0.81763105],\n",
              "       [-1.196879  ,  0.26901941],\n",
              "       [ 1.50357321, -1.08195144],\n",
              "       [-0.23243178,  0.06343689],\n",
              "       [-0.52176594,  0.85639804],\n",
              "       [-1.00398955, -1.49311648],\n",
              "       [-1.6791026 ,  0.32775728],\n",
              "       [-1.29332372,  0.5333398 ],\n",
              "       [-0.42532122, -0.05403883],\n",
              "       [ 0.34623655, -0.23025242],\n",
              "       [ 0.05690239,  0.00469903],\n",
              "       [-1.00398955,  0.5333398 ],\n",
              "       [ 1.98579682, -0.96447571],\n",
              "       [ 2.17868626,  0.91513591],\n",
              "       [-1.77554733,  0.15154369],\n",
              "       [-0.03954234,  0.26901941],\n",
              "       [-1.29332372,  0.38649514],\n",
              "       [-1.77554733, -1.46374755],\n",
              "       [-1.29332372, -0.37709708],\n",
              "       [ 0.15334711,  0.00469903],\n",
              "       [ 0.34623655, -0.34772815],\n",
              "       [-0.42532122, -1.25816503],\n",
              "       [-0.03954234, -0.52394174],\n",
              "       [ 0.63557072,  2.00178637],\n",
              "       [ 0.53912599,  1.20882522],\n",
              "       [ 0.92490488, -1.34627182],\n",
              "       [ 0.15334711,  1.85494172],\n",
              "       [ 1.0213496 , -0.87636892],\n",
              "       [ 0.05690239,  1.23819415],\n",
              "       [-1.10043427, -1.61059221],\n",
              "       [-0.61821067,  0.5333398 ],\n",
              "       [-0.23243178, -0.40646601],\n",
              "       [ 0.44268127, -0.52394174],\n",
              "       [-0.52176594, -1.55185434],\n",
              "       [ 2.08224154, -0.84699999],\n",
              "       [-0.23243178,  0.12217476],\n",
              "       [-1.38976844,  0.32775728],\n",
              "       [-0.23243178, -1.40500968],\n",
              "       [-1.00398955, -1.17005823],\n",
              "       [-1.196879  ,  0.23965048],\n",
              "       [-1.10043427, -1.63996114],\n",
              "       [ 0.92490488, -0.61204853],\n",
              "       [ 1.40712849,  0.56270873],\n",
              "       [-0.81110011,  0.26901941],\n",
              "       [-0.23243178,  0.00469903],\n",
              "       [ 1.31068377, -1.40500968],\n",
              "       [-0.13598706, -0.61204853],\n",
              "       [ 0.82846016,  0.23965048],\n",
              "       [-1.00398955,  0.50397087],\n",
              "       [ 1.8893521 , -0.31835922],\n",
              "       [-0.03954234,  0.65081552],\n",
              "       [-0.61821067,  0.00469903],\n",
              "       [ 2.17868626, -0.72952426],\n",
              "       [ 0.05690239,  0.26901941],\n",
              "       [-0.42532122, -0.31835922],\n",
              "       [-0.90754483, -0.78826212],\n",
              "       [-0.81110011, -0.81763105],\n",
              "       [ 0.44268127,  0.12217476],\n",
              "       [ 0.24979183, -0.40646601],\n",
              "       [ 1.8893521 ,  1.50251454],\n",
              "       [-1.196879  , -1.11132037],\n",
              "       [ 1.0213496 ,  1.97241744],\n",
              "       [ 1.31068377,  2.20736889],\n",
              "       [-0.03954234,  2.14863103],\n",
              "       [ 0.15334711,  0.06343689],\n",
              "       [-0.71465539,  0.23965048],\n",
              "       [-1.6791026 ,  0.32775728],\n",
              "       [-1.00398955, -0.37709708],\n",
              "       [ 1.0213496 ,  1.85494172],\n",
              "       [-0.23243178, -0.52394174],\n",
              "       [ 0.15334711,  0.23965048],\n",
              "       [ 1.8893521 , -1.31690289],\n",
              "       [ 0.05690239, -0.5826796 ],\n",
              "       [-0.23243178,  2.23673783],\n",
              "       [-1.00398955,  1.94304851],\n",
              "       [ 0.24979183, -0.70015533],\n",
              "       [-1.00398955,  0.38649514],\n",
              "       [ 0.05690239,  1.20882522],\n",
              "       [-0.3288765 ,  0.03406796],\n",
              "       [ 0.34623655,  0.03406796],\n",
              "       [-0.52176594,  1.35566988],\n",
              "       [-1.29332372, -0.46520388],\n",
              "       [ 0.15334711, -0.28899029],\n",
              "       [ 1.11779432, -1.25816503],\n",
              "       [ 0.92490488, -0.5826796 ],\n",
              "       [ 0.73201544, -1.43437862],\n",
              "       [-1.00398955, -1.58122327],\n",
              "       [-0.13598706, -0.49457281],\n",
              "       [ 1.8893521 , -1.11132037],\n",
              "       [-0.23243178, -0.70015533],\n",
              "       [-0.71465539,  0.26901941],\n",
              "       [-1.87199205, -0.08340777],\n",
              "       [ 0.92490488,  1.0032427 ],\n",
              "       [-0.03954234, -0.0246699 ],\n",
              "       [-1.77554733, -1.34627182],\n",
              "       [-0.23243178,  0.18091262],\n",
              "       [ 1.98579682,  0.88576697],\n",
              "       [-1.87199205,  0.445233  ],\n",
              "       [-0.23243178,  0.12217476],\n",
              "       [ 2.08224154,  0.50397087],\n",
              "       [-1.00398955,  0.56270873],\n",
              "       [ 0.82846016, -0.34772815],\n",
              "       [-0.23243178,  0.50397087],\n",
              "       [-0.81110011,  0.35712621],\n",
              "       [-0.81110011, -0.28899029],\n",
              "       [-0.42532122,  1.23819415],\n",
              "       [ 0.34623655,  0.03406796],\n",
              "       [-0.61821067, -1.08195144],\n",
              "       [ 0.34623655, -1.19942716],\n",
              "       [ 0.15334711,  0.00469903],\n",
              "       [ 0.44268127, -0.49457281],\n",
              "       [-0.03954234,  0.12217476],\n",
              "       [ 1.0213496 , -1.2287961 ],\n",
              "       [ 1.98579682,  2.14863103],\n",
              "       [-1.48621316,  0.29838834],\n",
              "       [ 1.69646265,  1.59062133],\n",
              "       [ 0.92490488,  2.14863103],\n",
              "       [ 1.79290738,  1.82557278],\n",
              "       [-0.23243178,  0.59207766],\n",
              "       [-0.52176594,  2.32484462],\n",
              "       [ 0.24979183, -0.17151456],\n",
              "       [-1.29332372, -1.52248541],\n",
              "       [ 0.34623655,  0.23965048],\n",
              "       [-0.03954234,  2.20736889],\n",
              "       [-0.23243178,  1.0913495 ],\n",
              "       [-0.13598706,  2.14863103],\n",
              "       [ 0.44268127,  0.23965048],\n",
              "       [ 0.63557072, -0.93510678],\n",
              "       [-0.52176594,  1.44377667],\n",
              "       [ 0.73201544, -1.43437862],\n",
              "       [-0.81110011,  0.35712621],\n",
              "       [ 0.73201544,  1.76683492],\n",
              "       [-0.42532122, -1.17005823],\n",
              "       [ 1.79290738, -0.31835922],\n",
              "       [-0.52176594,  1.88431065],\n",
              "       [ 0.44268127,  0.26901941],\n",
              "       [ 1.11779432,  2.06052424],\n",
              "       [ 1.0213496 , -1.11132037],\n",
              "       [ 1.60001793,  1.0913495 ],\n",
              "       [ 0.34623655,  0.00469903],\n",
              "       [-1.38976844, -0.14214563],\n",
              "       [ 0.73201544, -1.1406893 ],\n",
              "       [-0.61821067, -1.63996114],\n",
              "       [-0.23243178,  0.03406796],\n",
              "       [ 0.34623655, -0.55331067],\n",
              "       [-0.23243178, -0.61204853],\n",
              "       [ 0.92490488, -0.64141746],\n",
              "       [-0.03954234, -0.46520388],\n",
              "       [ 0.34623655,  0.03406796],\n",
              "       [-0.03954234, -0.55331067],\n",
              "       [-1.10043427,  0.03406796],\n",
              "       [-0.90754483, -0.46520388]])"
            ]
          },
          "execution_count": 23,
          "metadata": {},
          "output_type": "execute_result"
        }
      ],
      "source": [
        "x_train"
      ]
    },
    {
      "cell_type": "code",
      "execution_count": 24,
      "metadata": {
        "colab": {
          "base_uri": "https://localhost:8080/"
        },
        "id": "HqUBclc1uib6",
        "outputId": "b09acb8e-1f21-4803-fe2e-d489294bcd00"
      },
      "outputs": [
        {
          "data": {
            "text/plain": [
              "(300, 2)"
            ]
          },
          "execution_count": 24,
          "metadata": {},
          "output_type": "execute_result"
        }
      ],
      "source": [
        "x_train.shape"
      ]
    },
    {
      "cell_type": "code",
      "execution_count": 25,
      "metadata": {
        "colab": {
          "base_uri": "https://localhost:8080/"
        },
        "id": "I-OMBoElukni",
        "outputId": "1dfcffc4-8999-4b18-ab9e-a5a7187f0c4a"
      },
      "outputs": [
        {
          "data": {
            "text/plain": [
              "array([[-0.87479364, -1.13570286],\n",
              "       [ 1.82691195, -0.57449729],\n",
              "       [ 0.14999124, -0.16097739],\n",
              "       [ 1.4542629 ,  0.10485683],\n",
              "       [-0.31582007, -0.16097739],\n",
              "       [-1.15428042,  1.52263934],\n",
              "       [ 0.2431535 , -0.45634875],\n",
              "       [-1.52692947, -1.16524   ],\n",
              "       [-0.9679559 ,  0.51837673],\n",
              "       [ 0.70896481,  0.63652527],\n",
              "       [ 0.98845159,  0.66606241],\n",
              "       [-1.34060494, -0.3382002 ],\n",
              "       [ 0.2431535 , -0.42681161],\n",
              "       [-0.12949554, -0.98801719],\n",
              "       [ 1.36110064,  0.1639311 ],\n",
              "       [ 2.01323647, -0.95848005],\n",
              "       [ 0.89528933,  2.20199346],\n",
              "       [ 1.08161386, -1.37199995],\n",
              "       [ 0.80212707, -1.37199995],\n",
              "       [ 0.89528933,  0.22300537],\n",
              "       [ 1.26793838, -1.34246281],\n",
              "       [ 1.26793838,  1.4044908 ],\n",
              "       [ 1.92007421,  0.48883959],\n",
              "       [-0.31582007, -1.37199995],\n",
              "       [ 0.05682898, -0.72218297],\n",
              "       [-0.31582007, -1.16524   ],\n",
              "       [ 0.14999124, -0.22005166],\n",
              "       [ 0.89528933,  0.69559954],\n",
              "       [-1.4337672 , -0.10190312],\n",
              "       [-1.80641625, -1.19477714],\n",
              "       [-1.24744268, -1.31292568],\n",
              "       [-0.2226578 , -0.42681161],\n",
              "       [-0.31582007,  0.1639311 ],\n",
              "       [-1.15428042,  0.40022819],\n",
              "       [ 0.33631576,  0.10485683],\n",
              "       [ 0.2431535 ,  0.1639311 ],\n",
              "       [ 0.70896481,  1.49310221],\n",
              "       [ 1.92007421,  2.26106773],\n",
              "       [-1.15428042, -1.07662859],\n",
              "       [-0.2226578 ,  1.52263934],\n",
              "       [-1.71325399, -1.28338854],\n",
              "       [-1.15428042,  0.577451  ],\n",
              "       [ 0.80212707, -1.28338854],\n",
              "       [ 0.70896481, -0.7517201 ],\n",
              "       [ 0.89528933, -0.98801719],\n",
              "       [-0.78163137, -1.46061136],\n",
              "       [-0.50214459, -0.7517201 ],\n",
              "       [ 1.26793838, -0.84033151],\n",
              "       [-0.31582007, -0.22005166],\n",
              "       [ 0.33631576, -0.04282885],\n",
              "       [ 0.2431535 , -0.63357156],\n",
              "       [-1.62009173,  0.04578256],\n",
              "       [-1.15428042, -0.42681161],\n",
              "       [ 0.80212707,  1.19773085],\n",
              "       [-0.12949554, -0.27912593],\n",
              "       [-0.9679559 ,  0.37069105],\n",
              "       [ 1.26793838,  2.46782768],\n",
              "       [-0.12949554,  0.13439397],\n",
              "       [-0.78163137, -0.51542302],\n",
              "       [ 0.70896481,  0.22300537],\n",
              "       [ 0.33631576,  1.10911944],\n",
              "       [-0.68846911, -0.2495888 ],\n",
              "       [-0.9679559 ,  0.60698814],\n",
              "       [ 1.82691195,  0.84328522],\n",
              "       [-0.50214459, -0.45634875],\n",
              "       [-0.9679559 , -0.22005166],\n",
              "       [ 1.73374969,  0.22300537],\n",
              "       [ 0.42947803,  1.96569638],\n",
              "       [-0.87479364, -0.57449729],\n",
              "       [ 2.01323647, -0.72218297],\n",
              "       [ 0.89528933,  1.55217648],\n",
              "       [ 0.80212707, -0.95848005],\n",
              "       [-0.59530685, -1.43107422],\n",
              "       [-1.80641625, -1.40153709],\n",
              "       [-0.12949554,  0.22300537],\n",
              "       [-1.24744268,  0.69559954],\n",
              "       [-1.06111816, -0.2495888 ],\n",
              "       [ 1.4542629 ,  1.10911944],\n",
              "       [ 0.14999124,  0.1639311 ],\n",
              "       [-1.71325399,  0.577451  ],\n",
              "       [ 0.33631576,  1.22726799],\n",
              "       [ 0.14999124, -0.19051452],\n",
              "       [-0.59530685,  0.577451  ],\n",
              "       [-1.4337672 , -0.54496015],\n",
              "       [ 0.05682898,  0.31161678],\n",
              "       [ 0.61580255, -0.63357156],\n",
              "       [-0.31582007, -0.66310869],\n",
              "       [-0.2226578 , -0.10190312],\n",
              "       [-0.50214459,  2.43829055],\n",
              "       [-0.31582007, -0.84033151],\n",
              "       [ 0.89528933,  1.9066221 ],\n",
              "       [-0.31582007, -0.2495888 ],\n",
              "       [ 0.80212707,  1.37495366],\n",
              "       [-1.4337672 , -1.13570286],\n",
              "       [ 0.33631576,  2.43829055],\n",
              "       [-0.2226578 , -0.98801719],\n",
              "       [-0.03633328, -0.16097739],\n",
              "       [-1.71325399, -0.51542302],\n",
              "       [-0.03633328, -0.48588588],\n",
              "       [ 0.14999124,  1.19773085]])"
            ]
          },
          "execution_count": 25,
          "metadata": {},
          "output_type": "execute_result"
        }
      ],
      "source": [
        "x_test"
      ]
    },
    {
      "cell_type": "code",
      "execution_count": 26,
      "metadata": {
        "colab": {
          "base_uri": "https://localhost:8080/"
        },
        "id": "Edp0XFeuumHC",
        "outputId": "12691748-9c7e-4631-8670-5f4cf41b7665"
      },
      "outputs": [
        {
          "data": {
            "text/plain": [
              "(100, 2)"
            ]
          },
          "execution_count": 26,
          "metadata": {},
          "output_type": "execute_result"
        }
      ],
      "source": [
        "x_test.shape"
      ]
    },
    {
      "cell_type": "code",
      "execution_count": 27,
      "metadata": {
        "colab": {
          "base_uri": "https://localhost:8080/",
          "height": 75
        },
        "id": "uJfgRjY6uobq",
        "outputId": "1712ba61-e83c-46e9-bbf9-3aa0319d8d27"
      },
      "outputs": [
        {
          "data": {
            "text/html": [
              "<style>#sk-container-id-1 {color: black;background-color: white;}#sk-container-id-1 pre{padding: 0;}#sk-container-id-1 div.sk-toggleable {background-color: white;}#sk-container-id-1 label.sk-toggleable__label {cursor: pointer;display: block;width: 100%;margin-bottom: 0;padding: 0.3em;box-sizing: border-box;text-align: center;}#sk-container-id-1 label.sk-toggleable__label-arrow:before {content: \"▸\";float: left;margin-right: 0.25em;color: #696969;}#sk-container-id-1 label.sk-toggleable__label-arrow:hover:before {color: black;}#sk-container-id-1 div.sk-estimator:hover label.sk-toggleable__label-arrow:before {color: black;}#sk-container-id-1 div.sk-toggleable__content {max-height: 0;max-width: 0;overflow: hidden;text-align: left;background-color: #f0f8ff;}#sk-container-id-1 div.sk-toggleable__content pre {margin: 0.2em;color: black;border-radius: 0.25em;background-color: #f0f8ff;}#sk-container-id-1 input.sk-toggleable__control:checked~div.sk-toggleable__content {max-height: 200px;max-width: 100%;overflow: auto;}#sk-container-id-1 input.sk-toggleable__control:checked~label.sk-toggleable__label-arrow:before {content: \"▾\";}#sk-container-id-1 div.sk-estimator input.sk-toggleable__control:checked~label.sk-toggleable__label {background-color: #d4ebff;}#sk-container-id-1 div.sk-label input.sk-toggleable__control:checked~label.sk-toggleable__label {background-color: #d4ebff;}#sk-container-id-1 input.sk-hidden--visually {border: 0;clip: rect(1px 1px 1px 1px);clip: rect(1px, 1px, 1px, 1px);height: 1px;margin: -1px;overflow: hidden;padding: 0;position: absolute;width: 1px;}#sk-container-id-1 div.sk-estimator {font-family: monospace;background-color: #f0f8ff;border: 1px dotted black;border-radius: 0.25em;box-sizing: border-box;margin-bottom: 0.5em;}#sk-container-id-1 div.sk-estimator:hover {background-color: #d4ebff;}#sk-container-id-1 div.sk-parallel-item::after {content: \"\";width: 100%;border-bottom: 1px solid gray;flex-grow: 1;}#sk-container-id-1 div.sk-label:hover label.sk-toggleable__label {background-color: #d4ebff;}#sk-container-id-1 div.sk-serial::before {content: \"\";position: absolute;border-left: 1px solid gray;box-sizing: border-box;top: 0;bottom: 0;left: 50%;z-index: 0;}#sk-container-id-1 div.sk-serial {display: flex;flex-direction: column;align-items: center;background-color: white;padding-right: 0.2em;padding-left: 0.2em;position: relative;}#sk-container-id-1 div.sk-item {position: relative;z-index: 1;}#sk-container-id-1 div.sk-parallel {display: flex;align-items: stretch;justify-content: center;background-color: white;position: relative;}#sk-container-id-1 div.sk-item::before, #sk-container-id-1 div.sk-parallel-item::before {content: \"\";position: absolute;border-left: 1px solid gray;box-sizing: border-box;top: 0;bottom: 0;left: 50%;z-index: -1;}#sk-container-id-1 div.sk-parallel-item {display: flex;flex-direction: column;z-index: 1;position: relative;background-color: white;}#sk-container-id-1 div.sk-parallel-item:first-child::after {align-self: flex-end;width: 50%;}#sk-container-id-1 div.sk-parallel-item:last-child::after {align-self: flex-start;width: 50%;}#sk-container-id-1 div.sk-parallel-item:only-child::after {width: 0;}#sk-container-id-1 div.sk-dashed-wrapped {border: 1px dashed gray;margin: 0 0.4em 0.5em 0.4em;box-sizing: border-box;padding-bottom: 0.4em;background-color: white;}#sk-container-id-1 div.sk-label label {font-family: monospace;font-weight: bold;display: inline-block;line-height: 1.2em;}#sk-container-id-1 div.sk-label-container {text-align: center;}#sk-container-id-1 div.sk-container {/* jupyter's `normalize.less` sets `[hidden] { display: none; }` but bootstrap.min.css set `[hidden] { display: none !important; }` so we also need the `!important` here to be able to override the default hidden behavior on the sphinx rendered scikit-learn.org. See: https://github.com/scikit-learn/scikit-learn/issues/21755 */display: inline-block !important;position: relative;}#sk-container-id-1 div.sk-text-repr-fallback {display: none;}</style><div id=\"sk-container-id-1\" class=\"sk-top-container\"><div class=\"sk-text-repr-fallback\"><pre>LogisticRegression()</pre><b>In a Jupyter environment, please rerun this cell to show the HTML representation or trust the notebook. <br />On GitHub, the HTML representation is unable to render, please try loading this page with nbviewer.org.</b></div><div class=\"sk-container\" hidden><div class=\"sk-item\"><div class=\"sk-estimator sk-toggleable\"><input class=\"sk-toggleable__control sk-hidden--visually\" id=\"sk-estimator-id-1\" type=\"checkbox\" checked><label for=\"sk-estimator-id-1\" class=\"sk-toggleable__label sk-toggleable__label-arrow\">LogisticRegression</label><div class=\"sk-toggleable__content\"><pre>LogisticRegression()</pre></div></div></div></div></div>"
            ],
            "text/plain": [
              "LogisticRegression()"
            ]
          },
          "execution_count": 27,
          "metadata": {},
          "output_type": "execute_result"
        }
      ],
      "source": [
        "from sklearn.linear_model import LogisticRegression\n",
        "classifier = LogisticRegression()\n",
        "classifier.fit(x_train,y_train)"
      ]
    },
    {
      "cell_type": "code",
      "execution_count": 28,
      "metadata": {
        "id": "Dit6mEYCvRiO"
      },
      "outputs": [],
      "source": [
        "y_pred = classifier.predict(x_test)"
      ]
    },
    {
      "cell_type": "code",
      "execution_count": 29,
      "metadata": {
        "colab": {
          "base_uri": "https://localhost:8080/"
        },
        "id": "3xurIGHJvZ11",
        "outputId": "af933539-4e05-48d9-a8ba-9fae0b8bdad7"
      },
      "outputs": [
        {
          "data": {
            "text/plain": [
              "array([0, 1, 0, 1, 0, 0, 0, 0, 0, 1, 1, 0, 0, 0, 1, 1, 1, 0, 0, 1, 1, 1,\n",
              "       1, 0, 0, 0, 0, 1, 0, 0, 0, 0, 0, 0, 0, 0, 1, 1, 0, 1, 0, 0, 0, 0,\n",
              "       0, 0, 0, 1, 0, 0, 0, 0, 0, 1, 0, 0, 1, 0, 0, 1, 1, 0, 0, 1, 0, 0,\n",
              "       1, 1, 0, 1, 1, 0, 0, 0, 0, 0, 0, 1, 0, 0, 1, 0, 0, 0, 0, 0, 0, 0,\n",
              "       1, 0, 1, 0, 1, 0, 1, 0, 0, 0, 0, 1])"
            ]
          },
          "execution_count": 29,
          "metadata": {},
          "output_type": "execute_result"
        }
      ],
      "source": [
        "y_pred"
      ]
    },
    {
      "cell_type": "code",
      "execution_count": 30,
      "metadata": {
        "colab": {
          "base_uri": "https://localhost:8080/"
        },
        "id": "9dk0bbv4vbQ1",
        "outputId": "1ac51c42-753a-4285-e081-ed7cee3d52e1"
      },
      "outputs": [
        {
          "data": {
            "text/plain": [
              "array([0, 1, 0, 1, 0, 0, 0, 0, 0, 1, 1, 0, 0, 0, 1, 1, 0, 1, 1, 1, 1, 0,\n",
              "       0, 0, 0, 0, 0, 1, 0, 0, 0, 0, 0, 0, 0, 0, 1, 1, 0, 1, 0, 0, 1, 1,\n",
              "       1, 0, 0, 1, 0, 0, 0, 0, 0, 1, 0, 0, 1, 0, 0, 0, 1, 0, 0, 1, 0, 0,\n",
              "       1, 0, 0, 1, 1, 1, 0, 0, 0, 0, 0, 1, 0, 0, 1, 0, 0, 0, 0, 1, 0, 0,\n",
              "       1, 0, 1, 0, 1, 0, 1, 0, 0, 0, 0, 1])"
            ]
          },
          "execution_count": 30,
          "metadata": {},
          "output_type": "execute_result"
        }
      ],
      "source": [
        "y_test"
      ]
    },
    {
      "cell_type": "code",
      "execution_count": 31,
      "metadata": {
        "colab": {
          "base_uri": "https://localhost:8080/"
        },
        "id": "xuWP72Q4vdfj",
        "outputId": "198b553f-a4ee-4724-9ced-330356b56e5f"
      },
      "outputs": [
        {
          "data": {
            "text/plain": [
              "array([[61,  5],\n",
              "       [ 7, 27]])"
            ]
          },
          "execution_count": 31,
          "metadata": {},
          "output_type": "execute_result"
        }
      ],
      "source": [
        "from sklearn.metrics import confusion_matrix\n",
        "cm = confusion_matrix(y_test,y_pred)\n",
        "cm"
      ]
    },
    {
      "cell_type": "code",
      "execution_count": 33,
      "metadata": {
        "colab": {
          "base_uri": "https://localhost:8080/"
        },
        "id": "0WiHBwYNvz4p",
        "outputId": "d288b2c8-495b-4889-a67b-4de6de2d3f82"
      },
      "outputs": [
        {
          "data": {
            "text/plain": [
              "88.0"
            ]
          },
          "execution_count": 33,
          "metadata": {},
          "output_type": "execute_result"
        }
      ],
      "source": [
        "from sklearn.metrics import accuracy_score\n",
        "accuracy = accuracy_score(y_test,y_pred) * 100\n",
        "accuracy"
      ]
    },
    {
      "cell_type": "code",
      "execution_count": 37,
      "metadata": {
        "colab": {
          "base_uri": "https://localhost:8080/"
        },
        "id": "akJonuuyw3RN",
        "outputId": "79ad26db-da2b-47ee-e1c8-251af6c78dc6"
      },
      "outputs": [
        {
          "name": "stdout",
          "output_type": "stream",
          "text": [
            "[61]\n"
          ]
        }
      ],
      "source": [
        "tp = cm[0,[0]]\n",
        "print(tp)"
      ]
    },
    {
      "cell_type": "code",
      "execution_count": 38,
      "metadata": {
        "colab": {
          "base_uri": "https://localhost:8080/"
        },
        "id": "JwtBGGdYxDE8",
        "outputId": "51a8f108-24bf-4eaa-a573-5129aa24bb8a"
      },
      "outputs": [
        {
          "name": "stdout",
          "output_type": "stream",
          "text": [
            "[5]\n"
          ]
        }
      ],
      "source": [
        "fp = cm[0,[1]]\n",
        "print(fp)"
      ]
    },
    {
      "cell_type": "code",
      "execution_count": 39,
      "metadata": {
        "colab": {
          "base_uri": "https://localhost:8080/"
        },
        "id": "z3vzMS95xSaT",
        "outputId": "09012492-e331-42c0-b7f8-f6945848edf4"
      },
      "outputs": [
        {
          "name": "stdout",
          "output_type": "stream",
          "text": [
            "[7]\n"
          ]
        }
      ],
      "source": [
        "fn = cm[1,[0]]\n",
        "print(fn)"
      ]
    },
    {
      "cell_type": "code",
      "execution_count": 40,
      "metadata": {
        "colab": {
          "base_uri": "https://localhost:8080/"
        },
        "id": "6kTgcyPkxI2w",
        "outputId": "d35178fe-0106-4c6b-c334-aa8246c61992"
      },
      "outputs": [
        {
          "name": "stdout",
          "output_type": "stream",
          "text": [
            "[27]\n"
          ]
        }
      ],
      "source": [
        "tn = cm[1,[1]]\n",
        "print(tn)"
      ]
    },
    {
      "cell_type": "code",
      "execution_count": 43,
      "metadata": {
        "colab": {
          "base_uri": "https://localhost:8080/"
        },
        "id": "5lRXMTpnxeIi",
        "outputId": "f7454d5e-e8b2-4576-a41e-76425e2d4b62"
      },
      "outputs": [
        {
          "name": "stdout",
          "output_type": "stream",
          "text": [
            "[88.]\n"
          ]
        }
      ],
      "source": [
        "accuracy_cm = ((tp+tn)/(tp+fp+fn+tn))\n",
        "print(accuracy_cm * 100)"
      ]
    },
    {
      "cell_type": "code",
      "execution_count": 44,
      "metadata": {
        "colab": {
          "base_uri": "https://localhost:8080/"
        },
        "id": "UJZuiTUaxntg",
        "outputId": "5a0cffca-72e2-452b-89a3-1e40826ab82d"
      },
      "outputs": [
        {
          "name": "stdout",
          "output_type": "stream",
          "text": [
            "[11.76470588]\n"
          ]
        }
      ],
      "source": [
        "error_rate = ((fp+fn)/(tp+fn+fn+tn))\n",
        "print(error_rate * 100)"
      ]
    },
    {
      "cell_type": "code",
      "execution_count": 47,
      "metadata": {
        "colab": {
          "base_uri": "https://localhost:8080/"
        },
        "id": "BJUCtOXVx5wK",
        "outputId": "000ade77-b54b-40ae-95a7-a2a4b1ecce10"
      },
      "outputs": [
        {
          "data": {
            "text/plain": [
              "array([92.42424242])"
            ]
          },
          "execution_count": 47,
          "metadata": {},
          "output_type": "execute_result"
        }
      ],
      "source": [
        "precision = ((tp)/(tp+fp))\n",
        "precision * 100"
      ]
    },
    {
      "cell_type": "code",
      "execution_count": 50,
      "metadata": {
        "colab": {
          "base_uri": "https://localhost:8080/"
        },
        "id": "K-5kjkLdyFZb",
        "outputId": "f1fa3ab4-6462-4287-de8a-edd0f20aa108"
      },
      "outputs": [
        {
          "data": {
            "text/plain": [
              "array([89.70588235])"
            ]
          },
          "execution_count": 50,
          "metadata": {},
          "output_type": "execute_result"
        }
      ],
      "source": [
        "recall = (tp/(tp+fn))\n",
        "recall * 100"
      ]
    },
    {
      "cell_type": "code",
      "execution_count": 51,
      "metadata": {
        "colab": {
          "base_uri": "https://localhost:8080/"
        },
        "id": "fW0Icc7vyWKj",
        "outputId": "729d8243-f9e2-40f0-e224-a10b47da2591"
      },
      "outputs": [
        {
          "data": {
            "text/plain": [
              "array([84.375])"
            ]
          },
          "execution_count": 51,
          "metadata": {},
          "output_type": "execute_result"
        }
      ],
      "source": [
        "specificity = (tn/(fp+tn))\n",
        "specificity * 100"
      ]
    }
  ],
  "metadata": {
    "colab": {
      "provenance": []
    },
    "kernelspec": {
      "display_name": "Python 3",
      "name": "python3"
    },
    "language_info": {
      "codemirror_mode": {
        "name": "ipython",
        "version": 3
      },
      "file_extension": ".py",
      "mimetype": "text/x-python",
      "name": "python",
      "nbconvert_exporter": "python",
      "pygments_lexer": "ipython3",
      "version": "3.9.2"
    }
  },
  "nbformat": 4,
  "nbformat_minor": 0
}
